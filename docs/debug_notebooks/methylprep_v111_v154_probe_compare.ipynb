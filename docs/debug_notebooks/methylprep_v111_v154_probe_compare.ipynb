{
 "cells": [
  {
   "cell_type": "code",
   "execution_count": 1,
   "id": "836691ad",
   "metadata": {},
   "outputs": [],
   "source": [
    "import methylprep\n",
    "import methylcheck as m\n",
    "import matplotlib.pyplot as plt\n",
    "import pandas as pd\n",
    "from pathlib import Path\n",
    "latest = Path('/Volumes/LEGX/GEO/GSE69852/2021-08-04/')\n",
    "prev = Path('/Volumes/LEGX/GEO/GSE69852/v111/') # actually v111 right now"
   ]
  },
  {
   "cell_type": "markdown",
   "id": "d0098fe7",
   "metadata": {},
   "source": [
    "```\n",
    ">>> methylprep.__version__ '1.1.1' (but __Version__ not avail in this version)\n",
    ">>> SDCS = methylprep.run_pipeline('.')\n",
    ">>> x = SDCS[0]\n",
    ">>> y = SDCS[1]\n",
    ">>> dir(x)\n",
    "['_SampleDataContainer__data_frame', '__class__', '__delattr__', '__dict__', '__dir__', '__doc__', '__eq__', '__format__', '__ge__', '__getattribute__', '__gt__', '__hash__', '__init__', '__init_subclass__', '__le__', '__lt__', '__module__', '__ne__', '__new__', '__reduce__', '__reduce_ex__', '__repr__', '__setattr__', '__sizeof__', '__str__', '__subclasshook__', '__weakref__', '_postprocess', 'ctrl_green', 'ctrl_red', 'export', 'fg_green', 'fg_red', 'manifest', 'methylated', 'oob_controls', 'oob_green', 'oob_red', 'preprocess', 'process_all', 'process_beta_value', 'process_copy_number', 'process_m_value', 'raw_dataset', 'sample', 'unmethylated']\n",
    ">>> x.fg_green.to_csv('x_fg_green.csv')\n",
    ">>> x.fg_red.to_csv('x_fg_red.csv')\n",
    ">>> x.oob_red.to_csv('x_oob_red.csv')\n",
    ">>> x.oob_green.to_csv('x_oob_green.csv')\n",
    ">>> x.methylated.to_csv('x_methylated.csv')\n",
    ">>> x.methylated.data_frame.to_csv('x_methylated.csv')\n",
    ">>> x.unmethylated.data_frame.to_csv('x_unmethylated.csv')\n",
    ">>> x.ctrl_red.to_csv('x_ctrl_red.csv')\n",
    ">>> x.ctrl_green.to_csv('x_ctrl_green.csv')\n",
    ">>> list(x.methylated.data_frames.values())[0].to_csv('x_methylated_II.csv')\n",
    ">>> list(x.methylated.data_frames.values())[1].to_csv('x_methylated_IG.csv')\n",
    ">>> list(x.methylated.data_frames.values())[2].to_csv('x_methylated_IR.csv')\n",
    ">>> list(x.unmethylated.data_frames.values())[0].to_csv('x_unmethylated_II.csv')\n",
    ">>> list(x.unmethylated.data_frames.values())[1].to_csv('x_unmethylated_IG.csv')\n",
    ">>> list(x.unmethylated.data_frames.values())[2].to_csv('x_unmethylated_IR.csv')\n",
    "```"
   ]
  },
  {
   "cell_type": "code",
   "execution_count": 2,
   "id": "b0d6cfde",
   "metadata": {
    "scrolled": true
   },
   "outputs": [
    {
     "name": "stderr",
     "output_type": "stream",
     "text": [
      "INFO:methylprep.processing.pipeline:Running pipeline in: /Volumes/LEGX/GEO/GSE69852/2021-08-04\n",
      "INFO:methylprep.models.sigset:Reading 2 IDATs from sample sheet\n",
      "Reading IDATs: 100%|██████████| 2/2 [00:00<00:00, 8430.76it/s]\n",
      "INFO:methylprep.files.manifests:Reading manifest file: HumanMethylation450_15017482_v1-2.CoreColumns.csv\n",
      "Processing samples: 100%|██████████| 2/2 [00:52<00:00, 26.18s/it]\n",
      "INFO:methylprep.processing.pipeline:[finished SampleDataContainer processing]\n",
      "INFO:methylprep.processing.pipeline:saved noob_meth_values.pkl\n",
      "INFO:methylprep.processing.pipeline:saved noob_unmeth_values.pkl\n",
      "INFO:methylprep.processing.pipeline:saved meth_values.pkl\n",
      "INFO:methylprep.processing.pipeline:saved unmeth_values.pkl\n",
      "INFO:methylprep.processing.pipeline:saved sample_sheet_meta_data.pkl\n",
      "INFO:methylprep.processing.pipeline:saved control_probes.pkl\n"
     ]
    }
   ],
   "source": [
    "# ran once to use SDC in memory\n",
    "#sdcs = methylprep.run_pipeline(latest, save_uncorrected=True)\n",
    "#prevsdcs = methylprep.run_pipeline(prev, save_uncorrected=True) -- done using conda activate v133 then pickling the class SDC\n",
    "sdcs = methylprep.run_pipeline(latest, save_uncorrected=True, sesame=False, low_memory=False)"
   ]
  },
  {
   "cell_type": "markdown",
   "id": "e40132d5",
   "metadata": {},
   "source": [
    "# every probe subset matches exactly, if you round off the noob v.1.1.1 values and stack the oob meth+unmeth from oobR/oobG (and drop rs) to align with v1.1.1 shape.\n",
    "\n",
    "diff is NOT because...\n",
    "- probe subsets differ (they don't seem to differ, only the point at which oob gets stacked is confusing to compare\n",
    "- idatDataset float16/32/64 makes no difference, except that float16 does lead to a spread of values showing up around the correct value, so float32 used throughout."
   ]
  },
  {
   "cell_type": "markdown",
   "id": "8df4bf19",
   "metadata": {},
   "source": [
    "m133 = pd.read_pickle(Path(prev,'meth_values.pkl'))\n",
    "u133 = pd.read_pickle(Path(prev,'unmeth_values.pkl'))\n",
    "mnoob133 = pd.read_pickle(Path(prev,'noob_meth_values.pkl'))\n",
    "unoob133 = pd.read_pickle(Path(prev,'noob_unmeth_values.pkl'))\n",
    "\n",
    "m154 = pd.read_pickle(Path(latest,'meth_values.pkl'))\n",
    "u154 = pd.read_pickle(Path(latest,'unmeth_values.pkl'))\n",
    "mnoob154 = pd.read_pickle(Path(latest,'noob_meth_values.pkl'))\n",
    "unoob154 = pd.read_pickle(Path(latest,'noob_meth_values.pkl'))"
   ]
  },
  {
   "cell_type": "code",
   "execution_count": 3,
   "id": "5a7162ae",
   "metadata": {},
   "outputs": [
    {
     "name": "stderr",
     "output_type": "stream",
     "text": [
      "/opt/anaconda3/lib/python3.8/site-packages/IPython/core/interactiveshell.py:3165: DtypeWarning: Columns (6) have mixed types.Specify dtype option on import or set low_memory=False.\n",
      "  has_raised = await self.run_ast_nodes(code_ast.body, cell_name,\n",
      "/opt/anaconda3/lib/python3.8/site-packages/IPython/core/interactiveshell.py:3165: DtypeWarning: Columns (4,6) have mixed types.Specify dtype option on import or set low_memory=False.\n",
      "  has_raised = await self.run_ast_nodes(code_ast.body, cell_name,\n"
     ]
    }
   ],
   "source": [
    "m111 = Path('/Volumes/LEGX/GEO/GSE69852/v111/')\n",
    "xuIR = pd.read_csv(Path(m111, 'x_unmethylated_IR.csv')).set_index('IlmnID')\n",
    "xuIG = pd.read_csv(Path(m111, 'x_unmethylated_IG.csv')).set_index('IlmnID')\n",
    "xuII = pd.read_csv(Path(m111, 'x_unmethylated_II.csv')).set_index('IlmnID')\n",
    "xmIR = pd.read_csv(Path(m111, 'x_methylated_IR.csv')).set_index('IlmnID')\n",
    "xmIG = pd.read_csv(Path(m111, 'x_methylated_IG.csv')).set_index('IlmnID')\n",
    "xmII = pd.read_csv(Path(m111, 'x_methylated_II.csv')).set_index('IlmnID')\n",
    "x_oobG = pd.read_csv(Path(m111, 'x_oob_green.csv')).set_index('IlmnID')\n",
    "x_oobR = pd.read_csv(Path(m111, 'x_oob_red.csv')).set_index('IlmnID')\n",
    "x_meth = pd.read_csv(Path(m111, 'x_methylated.csv')).set_index('IlmnID')\n",
    "x_unmeth = pd.read_csv(Path(m111, 'x_unmethylated.csv')).set_index('IlmnID')\n",
    "x_fg_green = pd.read_csv(Path(m111, 'x_fg_green.csv')).set_index('IlmnID')\n",
    "x_fg_red = pd.read_csv(Path(m111, 'x_fg_red.csv')).set_index('IlmnID')\n",
    "x_ctrlG = pd.read_csv(Path(m111, 'x_ctrl_green.csv'))#.set_index('IlmnID')\n",
    "x_ctrlR = pd.read_csv(Path(m111, 'x_ctrl_red.csv'))#.set_index('IlmnID')"
   ]
  },
  {
   "cell_type": "code",
   "execution_count": 4,
   "id": "1c038c6f",
   "metadata": {
    "scrolled": false
   },
   "outputs": [
    {
     "name": "stdout",
     "output_type": "stream",
     "text": [
      "OK 0.0 II-meth: (mean_value vs Meth)\n",
      "OK 0.0 II-unmeth: (mean_value vs Unmeth)\n",
      "NOT OK -0.0012912957524368921 II-noob-meth: (noob vs noob_Meth)\n"
     ]
    },
    {
     "data": {
      "image/png": "[encoded data removed]",
      "text/plain": [
       "<Figure size 864x432 with 1 Axes>"
      ]
     },
     "metadata": {
      "needs_background": "light"
     },
     "output_type": "display_data"
    },
    {
     "name": "stdout",
     "output_type": "stream",
     "text": [
      "NOT OK -0.6755248031631033 II-noob-unmeth: (noob vs noob_Unmeth)\n"
     ]
    },
    {
     "data": {
      "image/png": "[encoded data removed]",
      "text/plain": [
       "<Figure size 864x432 with 1 Axes>"
      ]
     },
     "metadata": {
      "needs_background": "light"
     },
     "output_type": "display_data"
    },
    {
     "name": "stdout",
     "output_type": "stream",
     "text": [
      "OK 0.0 IR-meth: (mean_value vs Meth)\n",
      "OK 0.0 IR-unmeth: (mean_value vs Unmeth)\n",
      "NOT OK -0.3912789980602554 IR-noob-meth: (noob vs noob_Meth)\n"
     ]
    },
    {
     "data": {
      "image/png": "[encoded data removed]",
      "text/plain": [
       "<Figure size 864x432 with 1 Axes>"
      ]
     },
     "metadata": {
      "needs_background": "light"
     },
     "output_type": "display_data"
    },
    {
     "name": "stdout",
     "output_type": "stream",
     "text": [
      "NOT OK -0.6655902766098198 IR-noob-unmeth: (noob vs noob_Unmeth)\n"
     ]
    },
    {
     "data": {
      "image/png": "[encoded data removed]",
      "text/plain": [
       "<Figure size 864x432 with 1 Axes>"
      ]
     },
     "metadata": {
      "needs_background": "light"
     },
     "output_type": "display_data"
    },
    {
     "name": "stdout",
     "output_type": "stream",
     "text": [
      "OK 0.0 IG-meth: (mean_value vs Meth)\n",
      "OK 0.0 IG-unmeth: (mean_value vs Unmeth)\n",
      "NOT OK 0.0017498757804229946 IG-noob-meth: (noob vs noob_Meth)\n"
     ]
    },
    {
     "data": {
      "image/png": "[encoded data removed]",
      "text/plain": [
       "<Figure size 864x432 with 1 Axes>"
      ]
     },
     "metadata": {
      "needs_background": "light"
     },
     "output_type": "display_data"
    },
    {
     "name": "stdout",
     "output_type": "stream",
     "text": [
      "NOT OK -0.0006048953315042451 IG-noob-unmeth: (noob vs noob_Unmeth)\n"
     ]
    },
    {
     "data": {
      "image/png": "[encoded data removed]",
      "text/plain": [
       "<Figure size 864x432 with 1 Axes>"
      ]
     },
     "metadata": {
      "needs_background": "light"
     },
     "output_type": "display_data"
    }
   ],
   "source": [
    "a = sdcs[0]; b = sdcs[1]\n",
    "II = a.II[ ~a.II.index.str.startswith('rs') ]\n",
    "IG = a.IG[ ~a.IG.index.str.startswith('rs') ]\n",
    "IR = a.IR[ ~a.IR.index.str.startswith('rs') ]\n",
    "\n",
    "def compare_parts(df1, df2, note, label1, label2):\n",
    "    rows = df1[label1].shape[0] - df2[label2].shape[0]\n",
    "    if rows != 0:\n",
    "        print(f\"NOT OK rows diff: {rows}\")\n",
    "    mean_diff = (df1[label1] - df2[label2]).mean()    \n",
    "    if mean_diff != 0:\n",
    "        print(f\"NOT OK {mean_diff} {note}: ({label1} vs {label2})\")\n",
    "        (df1[label1] - df2[label2]).hist(bins=200, figsize=(12,6))\n",
    "        plt.show()\n",
    "    else:\n",
    "        print(f\"OK {mean_diff} {note}: ({label1} vs {label2})\")\n",
    "compare_parts(xmII.round(0), II, 'II-meth', 'mean_value', 'Meth')\n",
    "compare_parts(xuII.round(0), II, 'II-unmeth', 'mean_value', 'Unmeth')\n",
    "compare_parts(xmII.round(0), II, 'II-noob-meth', 'noob', 'noob_Meth')\n",
    "compare_parts(xuII.round(0), II, 'II-noob-unmeth', 'noob', 'noob_Unmeth')\n",
    "\n",
    "compare_parts(xmIR.round(0), IR, 'IR-meth', 'mean_value', 'Meth')\n",
    "compare_parts(xuIR.round(0), IR, 'IR-unmeth', 'mean_value', 'Unmeth')\n",
    "compare_parts(xmIR.round(0), IR, 'IR-noob-meth', 'noob', 'noob_Meth')\n",
    "compare_parts(xuIR.round(0), IR, 'IR-noob-unmeth', 'noob', 'noob_Unmeth')\n",
    "\n",
    "compare_parts(xmIG.round(0), IG, 'IG-meth', 'mean_value', 'Meth')\n",
    "compare_parts(xuIG.round(0), IG, 'IG-unmeth', 'mean_value', 'Unmeth')\n",
    "compare_parts(xmIG.round(0), IG, 'IG-noob-meth', 'noob', 'noob_Meth')\n",
    "compare_parts(xuIG.round(0), IG, 'IG-noob-unmeth', 'noob', 'noob_Unmeth')\n",
    "\n",
    "#pd.testing.assert_frame_equal(xmII[['mean_value']], II[['Meth']], check_dtype=False)"
   ]
  },
  {
   "cell_type": "code",
   "execution_count": 5,
   "id": "8eb1c42c",
   "metadata": {
    "scrolled": false
   },
   "outputs": [
    {
     "name": "stdout",
     "output_type": "stream",
     "text": [
      "NOT OK rows diff: 46280\n",
      "NOT OK 38.40756983300568 oobR: (mean_value vs Meth)\n"
     ]
    },
    {
     "data": {
      "image/png": "[encoded data removed]",
      "text/plain": [
       "<Figure size 864x432 with 1 Axes>"
      ]
     },
     "metadata": {
      "needs_background": "light"
     },
     "output_type": "display_data"
    },
    {
     "name": "stdout",
     "output_type": "stream",
     "text": [
      "NOT OK rows diff: 89171\n",
      "NOT OK 12.624822003206745 oobG: (mean_value vs Unmeth)\n"
     ]
    },
    {
     "data": {
      "image/png": "[encoded data removed]",
      "text/plain": [
       "<Figure size 864x432 with 1 Axes>"
      ]
     },
     "metadata": {
      "needs_background": "light"
     },
     "output_type": "display_data"
    },
    {
     "name": "stdout",
     "output_type": "stream",
     "text": [
      "after stacking v1.5.4 oobR\n",
      "OK 0.0 oobR: (mean_value vs Meth)\n"
     ]
    },
    {
     "data": {
      "image/png": "[encoded data removed]",
      "text/plain": [
       "<Figure size 864x432 with 1 Axes>"
      ]
     },
     "metadata": {
      "needs_background": "light"
     },
     "output_type": "display_data"
    },
    {
     "name": "stdout",
     "output_type": "stream",
     "text": [
      "after stacking v1.5.4 oobG\n",
      "OK 0.0 oobG: (mean_value vs Meth)\n"
     ]
    },
    {
     "data": {
      "image/png": "[encoded data removed]",
      "text/plain": [
       "<Figure size 864x432 with 1 Axes>"
      ]
     },
     "metadata": {
      "needs_background": "light"
     },
     "output_type": "display_data"
    }
   ],
   "source": [
    "compare_parts(x_oobR.round(0), a.oobR, 'oobR', 'mean_value', 'Meth')\n",
    "compare_parts(x_oobG.round(0), a.oobG, 'oobG', 'mean_value', 'Unmeth')\n",
    "\n",
    "test = pd.concat([\n",
    "    a.oobR[['AddressA_ID', 'AddressB_ID', 'Meth', 'used']], \n",
    "    a.oobR[['AddressA_ID', 'AddressB_ID', 'Unmeth', 'used']].rename(columns={'Unmeth':'Meth'})\n",
    "], axis='rows')\n",
    "test = test.loc[~test.index.str.startswith('rs')]\n",
    "print('after stacking v1.5.4 oobR')\n",
    "compare_parts(x_oobR, test, 'oobR', 'mean_value', 'Meth')\n",
    "(x_oobR['mean_value'] - test['Meth']).hist(bins=200, figsize=(12,6))\n",
    "plt.show()\n",
    "\n",
    "stacked = pd.concat([\n",
    "    a.oobG[['AddressA_ID', 'AddressB_ID', 'Meth', 'used']], \n",
    "    a.oobG[['AddressA_ID', 'AddressB_ID', 'Unmeth', 'used']].rename(columns={'Unmeth':'Meth'})\n",
    "], axis='rows')\n",
    "stacked = stacked.loc[~stacked.index.str.startswith('rs')]\n",
    "print('after stacking v1.5.4 oobG')\n",
    "compare_parts(x_oobG, stacked, 'oobG', 'mean_value', 'Meth')\n",
    "(x_oobG['mean_value'] - stacked['Meth']).hist(bins=200, figsize=(12,6))\n",
    "plt.show()\n"
   ]
  },
  {
   "cell_type": "code",
   "execution_count": 6,
   "id": "ee010627",
   "metadata": {},
   "outputs": [
    {
     "data": {
      "text/plain": [
       "IlmnID\n",
       "cg00000622     591.0\n",
       "cg00000622    -591.0\n",
       "cg00001245     -64.0\n",
       "cg00001245      64.0\n",
       "cg00001261     -68.0\n",
       "cg00001261      68.0\n",
       "cg00001510    -276.0\n",
       "cg00001510     276.0\n",
       "cg00001583     191.0\n",
       "cg00001583    -191.0\n",
       "cg00001594     259.0\n",
       "cg00001594    -259.0\n",
       "cg00001687     386.0\n",
       "cg00001687    -386.0\n",
       "cg00001747    -409.0\n",
       "cg00001747     409.0\n",
       "cg00001793     -91.0\n",
       "cg00001793      91.0\n",
       "cg00002028    -279.0\n",
       "cg00002028     279.0\n",
       "cg00002116     641.0\n",
       "cg00002116    -641.0\n",
       "cg00002719    -221.0\n",
       "cg00002719     221.0\n",
       "cg00002749    -368.0\n",
       "cg00002749     368.0\n",
       "cg00002769    -233.0\n",
       "cg00002769     233.0\n",
       "cg00002809    -269.0\n",
       "cg00002809     269.0\n",
       "cg00002837    -252.0\n",
       "cg00002837     252.0\n",
       "cg00003202    -454.0\n",
       "cg00003202     454.0\n",
       "cg00003298    -274.0\n",
       "cg00003298     274.0\n",
       "cg00003818     149.0\n",
       "cg00003818    -149.0\n",
       "cg00004082      -7.0\n",
       "cg00004082       7.0\n",
       "cg00004121     185.0\n",
       "cg00004121    -185.0\n",
       "cg00004883   -1575.0\n",
       "cg00004883    1575.0\n",
       "cg00005306     198.0\n",
       "cg00005306    -198.0\n",
       "cg00005740      52.0\n",
       "cg00005740     -52.0\n",
       "cg00006948    -312.0\n",
       "cg00006948     312.0\n",
       "dtype: float64"
      ]
     },
     "execution_count": 6,
     "metadata": {},
     "output_type": "execute_result"
    }
   ],
   "source": [
    "(x_oobG['mean_value'].sort_index() - stacked['Meth'].sort_index())[:50]"
   ]
  },
  {
   "cell_type": "code",
   "execution_count": 7,
   "id": "acda2ac0",
   "metadata": {},
   "outputs": [
    {
     "data": {
      "text/plain": [
       "IlmnID\n",
       "cg00000622     591.0\n",
       "cg00000622       0.0\n",
       "cg00001245       0.0\n",
       "cg00001245      64.0\n",
       "cg00001261     -68.0\n",
       "cg00001261       0.0\n",
       "cg00001510       0.0\n",
       "cg00001510     276.0\n",
       "cg00001583     191.0\n",
       "cg00001583       0.0\n",
       "cg00001594     259.0\n",
       "cg00001594       0.0\n",
       "cg00001687       0.0\n",
       "cg00001687    -386.0\n",
       "cg00001747       0.0\n",
       "cg00001747     409.0\n",
       "cg00001793       0.0\n",
       "cg00001793      91.0\n",
       "cg00002028       0.0\n",
       "cg00002028     279.0\n",
       "cg00002116     641.0\n",
       "cg00002116       0.0\n",
       "cg00002719       0.0\n",
       "cg00002719     221.0\n",
       "cg00002749    -368.0\n",
       "cg00002749       0.0\n",
       "cg00002769    -233.0\n",
       "cg00002769       0.0\n",
       "cg00002809    -269.0\n",
       "cg00002809       0.0\n",
       "cg00002837       0.0\n",
       "cg00002837     252.0\n",
       "cg00003202       0.0\n",
       "cg00003202     454.0\n",
       "cg00003298       0.0\n",
       "cg00003298     274.0\n",
       "cg00003818       0.0\n",
       "cg00003818    -149.0\n",
       "cg00004082       0.0\n",
       "cg00004082       7.0\n",
       "cg00004121       0.0\n",
       "cg00004121    -185.0\n",
       "cg00004883   -1575.0\n",
       "cg00004883       0.0\n",
       "cg00005306     198.0\n",
       "cg00005306       0.0\n",
       "cg00005740       0.0\n",
       "cg00005740     -52.0\n",
       "cg00006948       0.0\n",
       "cg00006948     312.0\n",
       "dtype: float64"
      ]
     },
     "execution_count": 7,
     "metadata": {},
     "output_type": "execute_result"
    }
   ],
   "source": [
    "(x_oobG['mean_value'].sort_index() - a.oobG['Meth'].sort_index())[:50]"
   ]
  },
  {
   "cell_type": "code",
   "execution_count": null,
   "id": "4aa9c595",
   "metadata": {},
   "outputs": [],
   "source": []
  }
 ],
 "metadata": {
  "kernelspec": {
   "display_name": "Python 3",
   "language": "python",
   "name": "python3"
  },
  "language_info": {
   "codemirror_mode": {
    "name": "ipython",
    "version": 3
   },
   "file_extension": ".py",
   "mimetype": "text/x-python",
   "name": "python",
   "nbconvert_exporter": "python",
   "pygments_lexer": "ipython3",
   "version": "3.8.8"
  }
 },
 "nbformat": 4,
 "nbformat_minor": 5
}
