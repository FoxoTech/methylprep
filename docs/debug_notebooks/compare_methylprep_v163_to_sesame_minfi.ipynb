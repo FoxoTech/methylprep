{
 "cells": [
  {
   "cell_type": "markdown",
   "id": "9ea36cd8",
   "metadata": {},
   "source": [
    "## methylprep v1.6.3: Comparing noob_meth / noob_unmeth with sesame and minfi"
   ]
  },
  {
   "cell_type": "code",
   "execution_count": 1,
   "id": "2850ce95",
   "metadata": {},
   "outputs": [],
   "source": [
    "import methylprep\n",
    "import pandas as pd\n",
    "from pathlib import Path"
   ]
  },
  {
   "cell_type": "code",
   "execution_count": 2,
   "id": "9a104111",
   "metadata": {},
   "outputs": [],
   "source": [
    "PATH = '../example_data/'\n",
    "meth = pd.read_csv(Path(PATH,'GSE69852/9247377085/9247377085/9247377085_R04C02_processed.csv')).set_index('IlmnID')[['beta_value']]\n",
    "meth = meth.rename(columns={'beta_value':'9247377085_R04C02'})\n",
    "ses = pd.read_csv(Path(PATH,'GSE69852/sesame_betas.csv')).set_index('Unnamed: 0')[['9247377085_R04C02']]\n",
    "ses.index.name = 'IlmnID'\n",
    "minfi = pd.read_csv(Path(PATH,'minfi/minfi_noob_betas.csv')).set_index('Unnamed: 0')[['9247377085_R04C02']]\n",
    "minfi.index.name = 'IlmnID'\n",
    "minfi = minfi.sort_index()\n",
    "meth162 = pd.read_csv(Path(PATH,'GSE69852/test_v162/9247377085/9247377085_R04C02_processed.csv')).set_index('IlmnID')[['beta_value']]\n",
    "meth162 = meth162.rename(columns={'beta_value':'9247377085_R04C02'})"
   ]
  },
  {
   "cell_type": "code",
   "execution_count": 3,
   "id": "7243bc39",
   "metadata": {},
   "outputs": [
    {
     "name": "stdout",
     "output_type": "stream",
     "text": [
      "9247377085_R04C02    0.002368\n",
      "dtype: float64 9247377085_R04C02   -0.360834\n",
      "dtype: float64 9247377085_R04C02    0.669671\n",
      "dtype: float64\n",
      "9247377085_R04C02    0.002976\n",
      "dtype: float64 9247377085_R04C02   -0.360834\n",
      "dtype: float64 9247377085_R04C02    0.668671\n",
      "dtype: float64\n"
     ]
    },
    {
     "data": {
      "image/png": "[encoded data removed]",
      "text/plain": [
       "<Figure size 432x288 with 1 Axes>"
      ]
     },
     "metadata": {
      "needs_background": "light"
     },
     "output_type": "display_data"
    },
    {
     "data": {
      "image/png": "[encoded data removed]",
      "text/plain": [
       "<Figure size 432x288 with 1 Axes>"
      ]
     },
     "metadata": {
      "needs_background": "light"
     },
     "output_type": "display_data"
    }
   ],
   "source": [
    "(meth-ses).plot.hist(bins=300, xlim=(-0.05, 0.05), title=\"methylprep 1.6.3 vs sesame\")\n",
    "(meth162-ses).plot.hist(bins=300, xlim=(-0.05, 0.05), title=\"methylprep 1.6.2 vs sesame\")\n",
    "print((meth-ses).mean(), (meth-ses).min(), (meth-ses).max())\n",
    "print((meth162-ses).mean(), (meth162-ses).min(), (meth162-ses).max())"
   ]
  },
  {
   "cell_type": "code",
   "execution_count": 4,
   "id": "cbe7e8e3",
   "metadata": {},
   "outputs": [
    {
     "data": {
      "text/html": [
       "<div>\n",
       "<style scoped>\n",
       "    .dataframe tbody tr th:only-of-type {\n",
       "        vertical-align: middle;\n",
       "    }\n",
       "\n",
       "    .dataframe tbody tr th {\n",
       "        vertical-align: top;\n",
       "    }\n",
       "\n",
       "    .dataframe thead th {\n",
       "        text-align: right;\n",
       "    }\n",
       "</style>\n",
       "<table border=\"1\" class=\"dataframe\">\n",
       "  <thead>\n",
       "    <tr style=\"text-align: right;\">\n",
       "      <th></th>\n",
       "      <th>9247377085_R04C02</th>\n",
       "    </tr>\n",
       "    <tr>\n",
       "      <th>IlmnID</th>\n",
       "      <th></th>\n",
       "    </tr>\n",
       "  </thead>\n",
       "  <tbody>\n",
       "    <tr>\n",
       "      <th>cg02525705</th>\n",
       "      <td>0.784</td>\n",
       "    </tr>\n",
       "    <tr>\n",
       "      <th>cg04571941</th>\n",
       "      <td>0.503</td>\n",
       "    </tr>\n",
       "    <tr>\n",
       "      <th>cg05140257</th>\n",
       "      <td>0.437</td>\n",
       "    </tr>\n",
       "    <tr>\n",
       "      <th>cg05901765</th>\n",
       "      <td>0.802</td>\n",
       "    </tr>\n",
       "    <tr>\n",
       "      <th>cg06260815</th>\n",
       "      <td>0.394</td>\n",
       "    </tr>\n",
       "    <tr>\n",
       "      <th>cg08857906</th>\n",
       "      <td>0.577</td>\n",
       "    </tr>\n",
       "    <tr>\n",
       "      <th>cg08941173</th>\n",
       "      <td>0.694</td>\n",
       "    </tr>\n",
       "    <tr>\n",
       "      <th>cg09883286</th>\n",
       "      <td>0.519</td>\n",
       "    </tr>\n",
       "    <tr>\n",
       "      <th>cg11041161</th>\n",
       "      <td>0.455</td>\n",
       "    </tr>\n",
       "    <tr>\n",
       "      <th>cg11717189</th>\n",
       "      <td>0.812</td>\n",
       "    </tr>\n",
       "    <tr>\n",
       "      <th>cg12662576</th>\n",
       "      <td>0.395</td>\n",
       "    </tr>\n",
       "    <tr>\n",
       "      <th>cg17735539</th>\n",
       "      <td>0.942</td>\n",
       "    </tr>\n",
       "    <tr>\n",
       "      <th>cg20545544</th>\n",
       "      <td>0.438</td>\n",
       "    </tr>\n",
       "    <tr>\n",
       "      <th>cg23053407</th>\n",
       "      <td>0.904</td>\n",
       "    </tr>\n",
       "    <tr>\n",
       "      <th>cg23057992</th>\n",
       "      <td>0.490</td>\n",
       "    </tr>\n",
       "    <tr>\n",
       "      <th>cg23097686</th>\n",
       "      <td>0.532</td>\n",
       "    </tr>\n",
       "    <tr>\n",
       "      <th>cg23348582</th>\n",
       "      <td>0.881</td>\n",
       "    </tr>\n",
       "    <tr>\n",
       "      <th>cg26323797</th>\n",
       "      <td>0.359</td>\n",
       "    </tr>\n",
       "  </tbody>\n",
       "</table>\n",
       "</div>"
      ],
      "text/plain": [
       "            9247377085_R04C02\n",
       "IlmnID                       \n",
       "cg02525705              0.784\n",
       "cg04571941              0.503\n",
       "cg05140257              0.437\n",
       "cg05901765              0.802\n",
       "cg06260815              0.394\n",
       "cg08857906              0.577\n",
       "cg08941173              0.694\n",
       "cg09883286              0.519\n",
       "cg11041161              0.455\n",
       "cg11717189              0.812\n",
       "cg12662576              0.395\n",
       "cg17735539              0.942\n",
       "cg20545544              0.438\n",
       "cg23053407              0.904\n",
       "cg23057992              0.490\n",
       "cg23097686              0.532\n",
       "cg23348582              0.881\n",
       "cg26323797              0.359"
      ]
     },
     "execution_count": 4,
     "metadata": {},
     "output_type": "execute_result"
    }
   ],
   "source": [
    "import numpy as np\n",
    "_filter = (meth - ses) > 0.3\n",
    "meth[_filter].dropna()"
   ]
  },
  {
   "cell_type": "code",
   "execution_count": 5,
   "id": "702999cc",
   "metadata": {},
   "outputs": [
    {
     "name": "stdout",
     "output_type": "stream",
     "text": [
      "9247377085_R04C02    0.002348\n",
      "dtype: float64 9247377085_R04C02   -0.360834\n",
      "dtype: float64 9247377085_R04C02    0.298037\n",
      "dtype: float64\n"
     ]
    }
   ],
   "source": [
    "ignore = meth[_filter].dropna().index\n",
    "meth_revised = meth[ ~meth.index.isin(ignore) ]\n",
    "ses_revised = ses[ ~ses.index.isin(ignore) ]\n",
    "print((meth_revised-ses_revised).mean(), (meth_revised-ses_revised).min(), (meth_revised-ses_revised).max())"
   ]
  },
  {
   "cell_type": "code",
   "execution_count": 6,
   "id": "868e4bff",
   "metadata": {},
   "outputs": [
    {
     "data": {
      "text/html": [
       "<div>\n",
       "<style scoped>\n",
       "    .dataframe tbody tr th:only-of-type {\n",
       "        vertical-align: middle;\n",
       "    }\n",
       "\n",
       "    .dataframe tbody tr th {\n",
       "        vertical-align: top;\n",
       "    }\n",
       "\n",
       "    .dataframe thead th {\n",
       "        text-align: right;\n",
       "    }\n",
       "</style>\n",
       "<table border=\"1\" class=\"dataframe\">\n",
       "  <thead>\n",
       "    <tr style=\"text-align: right;\">\n",
       "      <th></th>\n",
       "      <th>9247377085_R04C02</th>\n",
       "    </tr>\n",
       "    <tr>\n",
       "      <th>IlmnID</th>\n",
       "      <th></th>\n",
       "    </tr>\n",
       "  </thead>\n",
       "  <tbody>\n",
       "    <tr>\n",
       "      <th>cg00000029</th>\n",
       "      <td>0.723764</td>\n",
       "    </tr>\n",
       "    <tr>\n",
       "      <th>cg00000108</th>\n",
       "      <td>0.907198</td>\n",
       "    </tr>\n",
       "    <tr>\n",
       "      <th>cg00000109</th>\n",
       "      <td>0.865695</td>\n",
       "    </tr>\n",
       "    <tr>\n",
       "      <th>cg00000165</th>\n",
       "      <td>0.100634</td>\n",
       "    </tr>\n",
       "    <tr>\n",
       "      <th>cg00000236</th>\n",
       "      <td>0.926859</td>\n",
       "    </tr>\n",
       "    <tr>\n",
       "      <th>...</th>\n",
       "      <td>...</td>\n",
       "    </tr>\n",
       "    <tr>\n",
       "      <th>rs9363764</th>\n",
       "      <td>0.565572</td>\n",
       "    </tr>\n",
       "    <tr>\n",
       "      <th>rs939290</th>\n",
       "      <td>0.521709</td>\n",
       "    </tr>\n",
       "    <tr>\n",
       "      <th>rs951295</th>\n",
       "      <td>0.971654</td>\n",
       "    </tr>\n",
       "    <tr>\n",
       "      <th>rs966367</th>\n",
       "      <td>0.499535</td>\n",
       "    </tr>\n",
       "    <tr>\n",
       "      <th>rs9839873</th>\n",
       "      <td>0.658584</td>\n",
       "    </tr>\n",
       "  </tbody>\n",
       "</table>\n",
       "<p>485577 rows × 1 columns</p>\n",
       "</div>"
      ],
      "text/plain": [
       "            9247377085_R04C02\n",
       "IlmnID                       \n",
       "cg00000029           0.723764\n",
       "cg00000108           0.907198\n",
       "cg00000109           0.865695\n",
       "cg00000165           0.100634\n",
       "cg00000236           0.926859\n",
       "...                       ...\n",
       "rs9363764            0.565572\n",
       "rs939290             0.521709\n",
       "rs951295             0.971654\n",
       "rs966367             0.499535\n",
       "rs9839873            0.658584\n",
       "\n",
       "[485577 rows x 1 columns]"
      ]
     },
     "execution_count": 6,
     "metadata": {},
     "output_type": "execute_result"
    }
   ],
   "source": [
    "ses"
   ]
  },
  {
   "cell_type": "code",
   "execution_count": 7,
   "id": "7c666700",
   "metadata": {},
   "outputs": [
    {
     "data": {
      "text/html": [
       "<div>\n",
       "<style scoped>\n",
       "    .dataframe tbody tr th:only-of-type {\n",
       "        vertical-align: middle;\n",
       "    }\n",
       "\n",
       "    .dataframe tbody tr th {\n",
       "        vertical-align: top;\n",
       "    }\n",
       "\n",
       "    .dataframe thead th {\n",
       "        text-align: right;\n",
       "    }\n",
       "</style>\n",
       "<table border=\"1\" class=\"dataframe\">\n",
       "  <thead>\n",
       "    <tr style=\"text-align: right;\">\n",
       "      <th></th>\n",
       "      <th>9247377085_R04C02</th>\n",
       "    </tr>\n",
       "    <tr>\n",
       "      <th>IlmnID</th>\n",
       "      <th></th>\n",
       "    </tr>\n",
       "  </thead>\n",
       "  <tbody>\n",
       "    <tr>\n",
       "      <th>cg00000029</th>\n",
       "      <td>0.678</td>\n",
       "    </tr>\n",
       "    <tr>\n",
       "      <th>cg00000108</th>\n",
       "      <td>0.884</td>\n",
       "    </tr>\n",
       "    <tr>\n",
       "      <th>cg00000109</th>\n",
       "      <td>0.834</td>\n",
       "    </tr>\n",
       "    <tr>\n",
       "      <th>cg00000165</th>\n",
       "      <td>0.081</td>\n",
       "    </tr>\n",
       "    <tr>\n",
       "      <th>cg00000236</th>\n",
       "      <td>0.903</td>\n",
       "    </tr>\n",
       "    <tr>\n",
       "      <th>...</th>\n",
       "      <td>...</td>\n",
       "    </tr>\n",
       "    <tr>\n",
       "      <th>ch.X.97129969R</th>\n",
       "      <td>0.049</td>\n",
       "    </tr>\n",
       "    <tr>\n",
       "      <th>ch.X.97133160R</th>\n",
       "      <td>0.063</td>\n",
       "    </tr>\n",
       "    <tr>\n",
       "      <th>ch.X.97651759F</th>\n",
       "      <td>0.025</td>\n",
       "    </tr>\n",
       "    <tr>\n",
       "      <th>ch.X.97737721F</th>\n",
       "      <td>0.054</td>\n",
       "    </tr>\n",
       "    <tr>\n",
       "      <th>ch.X.98007042R</th>\n",
       "      <td>0.079</td>\n",
       "    </tr>\n",
       "  </tbody>\n",
       "</table>\n",
       "<p>485512 rows × 1 columns</p>\n",
       "</div>"
      ],
      "text/plain": [
       "                9247377085_R04C02\n",
       "IlmnID                           \n",
       "cg00000029                  0.678\n",
       "cg00000108                  0.884\n",
       "cg00000109                  0.834\n",
       "cg00000165                  0.081\n",
       "cg00000236                  0.903\n",
       "...                           ...\n",
       "ch.X.97129969R              0.049\n",
       "ch.X.97133160R              0.063\n",
       "ch.X.97651759F              0.025\n",
       "ch.X.97737721F              0.054\n",
       "ch.X.98007042R              0.079\n",
       "\n",
       "[485512 rows x 1 columns]"
      ]
     },
     "execution_count": 7,
     "metadata": {},
     "output_type": "execute_result"
    }
   ],
   "source": [
    "minfi.sort_index()"
   ]
  },
  {
   "cell_type": "code",
   "execution_count": 8,
   "id": "61982186",
   "metadata": {},
   "outputs": [
    {
     "name": "stdout",
     "output_type": "stream",
     "text": [
      "9247377085_R04C02    0.017407\n",
      "dtype: float64 9247377085_R04C02   -0.719\n",
      "dtype: float64 9247377085_R04C02    0.673\n",
      "dtype: float64\n",
      "9247377085_R04C02    0.018025\n",
      "dtype: float64 9247377085_R04C02   -0.719\n",
      "dtype: float64 9247377085_R04C02    0.672\n",
      "dtype: float64\n"
     ]
    },
    {
     "data": {
      "image/png": "[encoded data removed]",
      "text/plain": [
       "<Figure size 432x288 with 1 Axes>"
      ]
     },
     "metadata": {
      "needs_background": "light"
     },
     "output_type": "display_data"
    },
    {
     "data": {
      "image/png": "[encoded data removed]",
      "text/plain": [
       "<Figure size 432x288 with 1 Axes>"
      ]
     },
     "metadata": {
      "needs_background": "light"
     },
     "output_type": "display_data"
    }
   ],
   "source": [
    "(meth-minfi).plot.hist(bins=300, xlim=(-0.05, 0.05), title=\"methylprep 1.6.3 vs minfi\")\n",
    "(meth162-minfi).plot.hist(bins=300, xlim=(-0.05, 0.05), title=\"methylprep 1.6.2 vs minfi\")\n",
    "print((meth-minfi).mean(), (meth-minfi).min(), (meth-minfi).max())\n",
    "print((meth162-minfi).mean(), (meth162-minfi).min(), (meth162-minfi).max())"
   ]
  },
  {
   "cell_type": "code",
   "execution_count": null,
   "id": "877c72d1",
   "metadata": {},
   "outputs": [],
   "source": []
  }
 ],
 "metadata": {
  "kernelspec": {
   "display_name": "Python [conda env:anaconda3]",
   "language": "python",
   "name": "conda-env-anaconda3-py"
  },
  "language_info": {
   "codemirror_mode": {
    "name": "ipython",
    "version": 3
   },
   "file_extension": ".py",
   "mimetype": "text/x-python",
   "name": "python",
   "nbconvert_exporter": "python",
   "pygments_lexer": "ipython3",
   "version": "3.7.3"
  }
 },
 "nbformat": 4,
 "nbformat_minor": 5
}
