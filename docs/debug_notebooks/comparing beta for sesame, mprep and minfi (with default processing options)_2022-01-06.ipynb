{
 "cells": [
  {
   "cell_type": "code",
   "execution_count": 1,
   "id": "2c2f6c38",
   "metadata": {},
   "outputs": [],
   "source": [
    "from pathlib import Path\n",
    "import pandas as pd\n",
    "import matplotlib.pyplot as plt\n",
    "import methylprep\n",
    "import methylcheck\n",
    "from pprint import pprint as pp\n",
    "mprep_minfi_path = Path('/Volumes/LEGX/GEO/test_pipeline/GSE105018_0722') # methylprep --all --minfi v1.5.3\n",
    "mprep_ses_path = Path('/Volumes/LEGX/GEO/test_pipeline/GSE105018_ses0722') # methylprep --all v1.5.3\n",
    "m_v111 = Path('/Volumes/LEGX/GEO/test_pipeline/GSE105018_v111') # methylprep --betas v1.1.1 2019 version\n",
    "m_v146 = Path('/Volumes/LEGX/GEO/test_pipeline/GSE105018_v146') # methylprep --betas v1.4.6 March-2021 version --minfi\n",
    "m_v160 = Path('/Volumes/LEGX/GEO/test_pipeline/GSE105018_v160') # methylprep --betas v1.6.0 Jan-2022 version --minfi \n",
    "# m_v160: python -m methylprep process -d . --minfi\n",
    "m_v160_ses = Path('/Volumes/LEGX/GEO/test_pipeline/GSE105018_v160_ses') # methylprep --betas v1.6.0 Jan-2022 sesame (default)\n",
    "# m_v160_ses: python -m methylprep process -d . --all\n",
    "minpath = Path('/Volumes/LEGX/GEO/test_pipeline/GSE105018_minfi')\n",
    "sespath = Path('/Volumes/LEGX/GEO/test_pipeline/GSE105018_sesame')\n",
    "FIGURES = Path('/Users/mmaxmeister/Documents')"
   ]
  },
  {
   "cell_type": "code",
   "execution_count": 2,
   "id": "1c632648",
   "metadata": {},
   "outputs": [],
   "source": [
    "m_v111_samples = {}\n",
    "for _csv in Path(m_v111, '3999356047').rglob('*'):\n",
    "    sample_name = '_'.join(Path(_csv).stem.split('_')[:2])\n",
    "    sample = pd.read_csv(_csv).set_index('IlmnID')\n",
    "    m_v111_samples[sample_name] = sample\n",
    "\n",
    "m_v146_samples = {}\n",
    "for _csv in Path(m_v146, '3999356047').rglob('*'):\n",
    "    sample_name = '_'.join(Path(_csv).stem.split('_')[:2])\n",
    "    sample = pd.read_csv(_csv).set_index('IlmnID')\n",
    "    m_v146_samples[sample_name] = sample\n",
    "  \n",
    "mprep_minfi_beta = pd.read_pickle(Path(mprep_minfi_path,'beta_values.pkl')).sort_index()['3999356047_R01C01']\n",
    "mprep_ses_beta = pd.read_pickle(Path(mprep_ses_path,'beta_values.pkl')).sort_index()['3999356047_R01C01']\n",
    "\n",
    "ses_beta = pd.read_csv(Path(sespath, 'sesame_betas.csv')).set_index('Unnamed: 0').sort_index()['GSM2815705_3999356047_R01C01']\n",
    "ses_beta.index.name = 'IlmnID'\n",
    "ses_beta = ses_beta[ ~ses_beta.index.str.startswith('rs') ]\n",
    "minfi_beta = pd.read_csv(Path(minpath, 'minfi_noob_beta.csv')).set_index('Unnamed: 0').sort_index()['GSM2815705_3999356047_R01C01']\n",
    "minfi_beta.index.name = 'IlmnID'"
   ]
  },
  {
   "cell_type": "code",
   "execution_count": 3,
   "id": "2a6dc296",
   "metadata": {
    "scrolled": true
   },
   "outputs": [
    {
     "data": {
      "text/plain": [
       "((485512,), (485512,), (485512,), (485512,))"
      ]
     },
     "execution_count": 3,
     "metadata": {},
     "output_type": "execute_result"
    }
   ],
   "source": [
    "\n",
    "mprep_minfi_beta.shape, minfi_beta.shape, mprep_ses_beta.shape, ses_beta.shape"
   ]
  },
  {
   "cell_type": "markdown",
   "id": "5a5239d0",
   "metadata": {},
   "source": [
    "# beta values: methylprep vs sesame"
   ]
  },
  {
   "cell_type": "code",
   "execution_count": 4,
   "id": "80e59e17",
   "metadata": {
    "scrolled": true
   },
   "outputs": [
    {
     "data": {
      "image/png": "[encoded data removed]",
      "text/plain": [
       "<Figure size 576x288 with 1 Axes>"
      ]
     },
     "metadata": {
      "needs_background": "light"
     },
     "output_type": "display_data"
    }
   ],
   "source": [
    "(mprep_ses_beta - ses_beta).hist(bins=200, range=[-1.0,1.0], figsize=(8,4))\n",
    "plt.savefig(Path(FIGURES,'paper-methylprep-vs-sesame.png'), dpi=300, facecolor='w')\n",
    "plt.grid(color='lightgray')# , linestyle='dotted') #, linewidth=0.7)\n",
    "plt.show()"
   ]
  },
  {
   "cell_type": "markdown",
   "id": "6fa70554",
   "metadata": {},
   "source": [
    "# beta values: methylprep vs minfi"
   ]
  },
  {
   "cell_type": "code",
   "execution_count": 5,
   "id": "dc8eeed5",
   "metadata": {},
   "outputs": [
    {
     "data": {
      "image/png": "[encoded data removed]",
      "text/plain": [
       "<Figure size 576x288 with 1 Axes>"
      ]
     },
     "metadata": {
      "needs_background": "light"
     },
     "output_type": "display_data"
    }
   ],
   "source": [
    "(mprep_minfi_beta - minfi_beta).hist(bins=200, range=[-1.0,1.0], figsize=(8,4))\n",
    "plt.savefig(Path(FIGURES,'paper-methylprep-vs-minfi.png'), dpi=300, facecolor='w')\n",
    "plt.show()"
   ]
  },
  {
   "cell_type": "markdown",
   "id": "f7e5b40d",
   "metadata": {},
   "source": [
    "# beta values: sesame vs minfi"
   ]
  },
  {
   "cell_type": "code",
   "execution_count": 6,
   "id": "09d4a301",
   "metadata": {
    "scrolled": true
   },
   "outputs": [
    {
     "data": {
      "image/png": "[encoded data removed]",
      "text/plain": [
       "<Figure size 576x288 with 1 Axes>"
      ]
     },
     "metadata": {
      "needs_background": "light"
     },
     "output_type": "display_data"
    }
   ],
   "source": [
    "(ses_beta - minfi_beta.sort_index()).hist(bins=200, range=[-1.0,1.0], figsize=(8,4))\n",
    "plt.savefig(Path(FIGURES,'paper-sesame-vs-minfi.png'), dpi=300, facecolor='w')\n",
    "plt.show()"
   ]
  },
  {
   "cell_type": "markdown",
   "id": "c6829a65",
   "metadata": {},
   "source": [
    "#### mprep v160 CSV beta values --vs-- minfi betas"
   ]
  },
  {
   "cell_type": "code",
   "execution_count": 7,
   "id": "05b4ef01",
   "metadata": {},
   "outputs": [
    {
     "data": {
      "image/png": "[encoded data removed]",
      "text/plain": [
       "<Figure size 576x288 with 1 Axes>"
      ]
     },
     "metadata": {
      "needs_background": "light"
     },
     "output_type": "display_data"
    }
   ],
   "source": [
    "m_v160_samples = {}\n",
    "for _csv in Path(m_v160, '3999356047').rglob('*'):\n",
    "    sample_name = '_'.join(Path(_csv).stem.split('_')[:2])\n",
    "    sample = pd.read_csv(_csv).set_index('IlmnID')\n",
    "    m_v160_samples[sample_name] = sample\n",
    "\n",
    "mprep_s160 = m_v160_samples['3999356047_R01C01']['beta_value']\n",
    "mprep_s160 = mprep_s160[ ~mprep_s160.index.str.startswith('rs') ]\n",
    "\n",
    "(mprep_s160 - minfi_beta).hist(bins=200, range=[-1.0,1.0], figsize=(8,4))\n",
    "plt.show()"
   ]
  },
  {
   "cell_type": "markdown",
   "id": "5f276c30",
   "metadata": {},
   "source": [
    "#### mprep v160_ses CSV beta values (using --all) --vs-- sesame betas"
   ]
  },
  {
   "cell_type": "code",
   "execution_count": 8,
   "id": "1ab56023",
   "metadata": {},
   "outputs": [],
   "source": [
    "m_v160_ses_samples = {}\n",
    "for _csv in Path(m_v160_ses, '3999356047').rglob('*'):\n",
    "    sample_name = '_'.join(Path(_csv).stem.split('_')[:2])\n",
    "    sample = pd.read_csv(_csv).set_index('IlmnID')\n",
    "    m_v160_ses_samples[sample_name] = sample\n",
    "\n",
    "mprep_s160_ses = m_v160_ses_samples['3999356047_R01C01']['beta_value']\n",
    "mprep_s160_ses = mprep_s160_ses[ ~mprep_s160_ses.index.str.startswith('rs') ]\n"
   ]
  },
  {
   "cell_type": "code",
   "execution_count": 9,
   "id": "315d1c11",
   "metadata": {},
   "outputs": [
    {
     "data": {
      "image/png": "[encoded data removed]",
      "text/plain": [
       "<Figure size 576x288 with 1 Axes>"
      ]
     },
     "metadata": {
      "needs_background": "light"
     },
     "output_type": "display_data"
    }
   ],
   "source": [
    "(mprep_s160_ses - ses_beta).hist(bins=200, range=[-1.0,1.0], figsize=(8,4))\n",
    "plt.show()"
   ]
  },
  {
   "cell_type": "code",
   "execution_count": 10,
   "id": "5ab9c732",
   "metadata": {},
   "outputs": [
    {
     "data": {
      "image/png": "[encoded data removed]",
      "text/plain": [
       "<Figure size 576x288 with 1 Axes>"
      ]
     },
     "metadata": {
      "needs_background": "light"
     },
     "output_type": "display_data"
    }
   ],
   "source": [
    "## note that NA probes in sesame output are ignored:\n",
    "\n",
    "mprep_s160_ses_no_NaN = mprep_s160_ses[ ses_beta.notna()]\n",
    "(mprep_s160_ses_no_NaN - ses_beta).hist(bins=200, range=[-1.0,1.0], figsize=(8,4))\n",
    "plt.show()"
   ]
  },
  {
   "cell_type": "code",
   "execution_count": 11,
   "id": "6aa95810",
   "metadata": {},
   "outputs": [
    {
     "name": "stdout",
     "output_type": "stream",
     "text": [
      "mprep 1.6 vs sesame avg -0.0035 (-0.35%) sem 6.4e-05\n",
      "mprep 1.6 vs minfi avg -0.0088 (-0.88%) sem 6.1e-05\n",
      "sesame vs minfi 0.0374 (3.74%) sem 5.8e-05\n"
     ]
    }
   ],
   "source": [
    "print(f\"mprep 1.6 vs sesame avg {round((mprep_s160_ses_no_NaN - ses_beta).mean(),4)} ({round(100*(mprep_s160_ses_no_NaN - ses_beta).mean(),2)}%) sem {round((mprep_s160_ses_no_NaN - ses_beta).sem(),6)}\")\n",
    "print(f\"mprep 1.6 vs minfi avg {round((mprep_s160 - minfi_beta).mean(),4)} ({round(100*(mprep_s160 - minfi_beta).mean(),2)}%) sem {round((mprep_s160 - minfi_beta).sem(),6)}\")\n",
    "print(f\"sesame vs minfi {round((ses_beta - minfi_beta).mean(),4)} ({round(100*(ses_beta - minfi_beta).mean(),2)}%) sem {round((ses_beta - minfi_beta).sem(),6)}\")\n"
   ]
  },
  {
   "cell_type": "code",
   "execution_count": 12,
   "id": "d22c81c3",
   "metadata": {},
   "outputs": [
    {
     "data": {
      "text/plain": [
       "(6.4e-05, 6.1e-05)"
      ]
     },
     "execution_count": 12,
     "metadata": {},
     "output_type": "execute_result"
    }
   ],
   "source": [
    "0.000064, 0.000061\n"
   ]
  },
  {
   "cell_type": "code",
   "execution_count": null,
   "id": "b8f625a3",
   "metadata": {},
   "outputs": [],
   "source": []
  }
 ],
 "metadata": {
  "kernelspec": {
   "display_name": "Python 3",
   "language": "python",
   "name": "python3"
  },
  "language_info": {
   "codemirror_mode": {
    "name": "ipython",
    "version": 3
   },
   "file_extension": ".py",
   "mimetype": "text/x-python",
   "name": "python",
   "nbconvert_exporter": "python",
   "pygments_lexer": "ipython3",
   "version": "3.8.8"
  }
 },
 "nbformat": 4,
 "nbformat_minor": 5
}
