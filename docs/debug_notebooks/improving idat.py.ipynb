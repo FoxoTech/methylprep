{
 "cells": [
  {
   "cell_type": "code",
   "execution_count": 1,
   "metadata": {},
   "outputs": [],
   "source": [
    "import numpy as np\n",
    "import pandas as pd\n",
    "from pathlib import Path\n",
    "import methylcheck\n",
    "import methylprep\n",
    "#LOCAL = Path('/Volumes/LEGX/GSE69852/Project1_idats/')\n",
    "LOCAL = Path('/Volumes/LEGX/GSE69852/idats/')"
   ]
  },
  {
   "cell_type": "code",
   "execution_count": 18,
   "metadata": {
    "scrolled": false
   },
   "outputs": [
    {
     "name": "stdout",
     "output_type": "stream",
     "text": [
      "622399 622399 622399\n",
      "idat version: 3\n",
      "file includes [illumina_id | mean | std_dev | nbeads] tabular data for all probes.\n",
      "103 std_dev average: 308.0, N=622399\n",
      "107 num_beads average: 14.5, N=622399\n",
      "400 red_green: \n",
      "401 manifest: \n",
      "402 barcode: 9247377085\n",
      "403 chip_type: BeadChip 12x8\n",
      "1000 n_snps_read: 622399\n",
      "300 run info: ('3/8/2013 3:46:35 PM', 'Scan', 'sherlockID=H194|ScannerID=H194|Username=SBSUser|FPGAVersion=3.0.39|SoftwareAppication=iScan Control Software|SoftwareVersion=3.3.28', 'iScan Control Software', '3.3.28')\n"
     ]
    }
   ],
   "source": [
    "x = methylprep.files.IdatDataset('/Volumes/LEGX/GSE69852/idats/9247377085_R04C02_Red.idat', methylprep.models.Channel.RED, verbose=True, std_dev=True, nbeads=True, bit='float32')"
   ]
  },
  {
   "cell_type": "code",
   "execution_count": 27,
   "metadata": {},
   "outputs": [
    {
     "data": {
      "text/html": [
       "<div>\n",
       "<style scoped>\n",
       "    .dataframe tbody tr th:only-of-type {\n",
       "        vertical-align: middle;\n",
       "    }\n",
       "\n",
       "    .dataframe tbody tr th {\n",
       "        vertical-align: top;\n",
       "    }\n",
       "\n",
       "    .dataframe thead th {\n",
       "        text-align: right;\n",
       "    }\n",
       "</style>\n",
       "<table border=\"1\" class=\"dataframe\">\n",
       "  <thead>\n",
       "    <tr style=\"text-align: right;\">\n",
       "      <th></th>\n",
       "      <th>mean_value</th>\n",
       "      <th>std_dev</th>\n",
       "      <th>n_beads</th>\n",
       "    </tr>\n",
       "    <tr>\n",
       "      <th>illumina_id</th>\n",
       "      <th></th>\n",
       "      <th></th>\n",
       "      <th></th>\n",
       "    </tr>\n",
       "  </thead>\n",
       "  <tbody>\n",
       "    <tr>\n",
       "      <td>10604465</td>\n",
       "      <td>162.0</td>\n",
       "      <td>56.0</td>\n",
       "      <td>11.0</td>\n",
       "    </tr>\n",
       "    <tr>\n",
       "      <td>10611400</td>\n",
       "      <td>198.0</td>\n",
       "      <td>61.0</td>\n",
       "      <td>25.0</td>\n",
       "    </tr>\n",
       "    <tr>\n",
       "      <td>10612370</td>\n",
       "      <td>187.0</td>\n",
       "      <td>54.0</td>\n",
       "      <td>21.0</td>\n",
       "    </tr>\n",
       "    <tr>\n",
       "      <td>10615361</td>\n",
       "      <td>159.0</td>\n",
       "      <td>56.0</td>\n",
       "      <td>13.0</td>\n",
       "    </tr>\n",
       "    <tr>\n",
       "      <td>10615362</td>\n",
       "      <td>165.0</td>\n",
       "      <td>36.0</td>\n",
       "      <td>13.0</td>\n",
       "    </tr>\n",
       "    <tr>\n",
       "      <td>...</td>\n",
       "      <td>...</td>\n",
       "      <td>...</td>\n",
       "      <td>...</td>\n",
       "    </tr>\n",
       "    <tr>\n",
       "      <td>74801343</td>\n",
       "      <td>192.0</td>\n",
       "      <td>67.0</td>\n",
       "      <td>20.0</td>\n",
       "    </tr>\n",
       "    <tr>\n",
       "      <td>74803422</td>\n",
       "      <td>175.0</td>\n",
       "      <td>53.0</td>\n",
       "      <td>17.0</td>\n",
       "    </tr>\n",
       "    <tr>\n",
       "      <td>74803483</td>\n",
       "      <td>172.0</td>\n",
       "      <td>40.0</td>\n",
       "      <td>19.0</td>\n",
       "    </tr>\n",
       "    <tr>\n",
       "      <td>74806472</td>\n",
       "      <td>193.0</td>\n",
       "      <td>50.0</td>\n",
       "      <td>22.0</td>\n",
       "    </tr>\n",
       "    <tr>\n",
       "      <td>74810302</td>\n",
       "      <td>180.0</td>\n",
       "      <td>48.0</td>\n",
       "      <td>23.0</td>\n",
       "    </tr>\n",
       "  </tbody>\n",
       "</table>\n",
       "<p>8745 rows × 3 columns</p>\n",
       "</div>"
      ],
      "text/plain": [
       "             mean_value  std_dev  n_beads\n",
       "illumina_id                              \n",
       "10604465          162.0     56.0     11.0\n",
       "10611400          198.0     61.0     25.0\n",
       "10612370          187.0     54.0     21.0\n",
       "10615361          159.0     56.0     13.0\n",
       "10615362          165.0     36.0     13.0\n",
       "...                 ...      ...      ...\n",
       "74801343          192.0     67.0     20.0\n",
       "74803422          175.0     53.0     17.0\n",
       "74803483          172.0     40.0     19.0\n",
       "74806472          193.0     50.0     22.0\n",
       "74810302          180.0     48.0     23.0\n",
       "\n",
       "[8745 rows x 3 columns]"
      ]
     },
     "execution_count": 27,
     "metadata": {},
     "output_type": "execute_result"
    }
   ],
   "source": [
    "df = x.probe_means\n",
    "df[df['mean_value'] < 200]"
   ]
  },
  {
   "cell_type": "code",
   "execution_count": null,
   "metadata": {},
   "outputs": [],
   "source": []
  },
  {
   "cell_type": "code",
   "execution_count": null,
   "metadata": {},
   "outputs": [],
   "source": []
  }
 ],
 "metadata": {
  "kernelspec": {
   "display_name": "Python 3",
   "language": "python",
   "name": "python3"
  },
  "language_info": {
   "codemirror_mode": {
    "name": "ipython",
    "version": 3
   },
   "file_extension": ".py",
   "mimetype": "text/x-python",
   "name": "python",
   "nbconvert_exporter": "python",
   "pygments_lexer": "ipython3",
   "version": "3.7.3"
  }
 },
 "nbformat": 4,
 "nbformat_minor": 4
}
